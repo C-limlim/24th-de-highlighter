{
 "cells": [
  {
   "cell_type": "code",
   "execution_count": 1,
   "id": "6e813da8",
   "metadata": {},
   "outputs": [],
   "source": [
    "import boto3\n",
    "\n",
    "sqs = boto3.client('sqs')"
   ]
  },
  {
   "cell_type": "code",
   "execution_count": null,
   "id": "e9c2c381",
   "metadata": {},
   "outputs": [],
   "source": [
    "response = sqs.get_queue_url(QueueName='highlighter.fifo')\n",
    "queue_url = response[\"QueueUrl\"]"
   ]
  },
  {
   "cell_type": "code",
   "execution_count": 29,
   "id": "525ce046",
   "metadata": {},
   "outputs": [],
   "source": [
    "response = sqs.send_message(\n",
    "    QueueUrl=queue_url,\n",
    "    MessageAttributes={\n",
    "        \"Title\": {\n",
    "            \"DataType\": \"String\",\n",
    "            \"StringValue\": \"The Whistler\"\n",
    "        },\n",
    "        \"Author\": {\n",
    "            \"DataType\": \"String\",\n",
    "            \"StringValue\": \"John Grisham\"\n",
    "        },\n",
    "        \"WeeksOn\": {\n",
    "            \"DataType\": \"Number\",\n",
    "            \"StringValue\": \"6\"\n",
    "        }\n",
    "    },\n",
    "    MessageBody=(\n",
    "        \"Information about current NY Times fiction bestseller for \"\n",
    "        \"week of 12/11/2016.\"\n",
    "    ),\n",
    "    MessageGroupId=\"1\",\n",
    "    MessageDeduplicationId=\"1\",\n",
    ")"
   ]
  },
  {
   "cell_type": "code",
   "execution_count": null,
   "id": "74eda5f0",
   "metadata": {},
   "outputs": [],
   "source": [
    "print(response[\"MessageId\"])"
   ]
  },
  {
   "cell_type": "code",
   "execution_count": 54,
   "id": "0ebc2996",
   "metadata": {
    "scrolled": true
   },
   "outputs": [],
   "source": [
    "response = sqs.receive_message(\n",
    "    QueueUrl=queue_url,\n",
    "    AttributeNames=[\n",
    "        'All'\n",
    "    ],\n",
    "    MaxNumberOfMessages=1,\n",
    "    MessageAttributeNames=[\n",
    "        'All'\n",
    "    ],\n",
    "    VisibilityTimeout=100,\n",
    "    WaitTimeSeconds=0\n",
    ")"
   ]
  },
  {
   "cell_type": "code",
   "execution_count": null,
   "id": "5ccb8ee4",
   "metadata": {},
   "outputs": [],
   "source": [
    "message = response['Messages'][0]\n",
    "receipt_handle = message['ReceiptHandle']\n",
    "\n",
    "# Delete received message from queue\n",
    "sqs.delete_message(\n",
    "    QueueUrl=queue_url,\n",
    "    ReceiptHandle=receipt_handle\n",
    ")\n",
    "print('Received and deleted message: %s' % message)"
   ]
  },
  {
   "cell_type": "code",
   "execution_count": 58,
   "id": "4376082d",
   "metadata": {},
   "outputs": [
    {
     "data": {
      "text/plain": [
       "{'ResponseMetadata': {'RequestId': '9e8fc2bc-b1ae-5b4c-ac72-9c120990bc99',\n",
       "  'HTTPStatusCode': 200,\n",
       "  'HTTPHeaders': {'x-amzn-requestid': '9e8fc2bc-b1ae-5b4c-ac72-9c120990bc99',\n",
       "   'date': 'Fri, 03 May 2024 10:01:34 GMT',\n",
       "   'content-type': 'application/x-amz-json-1.0',\n",
       "   'content-length': '0',\n",
       "   'connection': 'keep-alive'},\n",
       "  'RetryAttempts': 0}}"
      ]
     },
     "execution_count": 58,
     "metadata": {},
     "output_type": "execute_result"
    }
   ],
   "source": [
    "sqs.purge_queue(QueueUrl=queue_url)"
   ]
  },
  {
   "cell_type": "code",
   "execution_count": 41,
   "id": "d969b75f",
   "metadata": {
    "scrolled": true
   },
   "outputs": [],
   "source": [
    "import base64\n",
    "a = base64.b64decode(message[\"Body\"].encode())"
   ]
  },
  {
   "cell_type": "code",
   "execution_count": 70,
   "id": "75a107e6",
   "metadata": {},
   "outputs": [],
   "source": [
    "with open(\"vid.ts\", \"wb\") as video_file:\n",
    "    while True:\n",
    "        response = sqs.receive_message(\n",
    "            QueueUrl=queue_url,\n",
    "            AttributeNames=[\n",
    "                'All'\n",
    "            ],\n",
    "            MaxNumberOfMessages=1,\n",
    "            MessageAttributeNames=[\n",
    "                'All'\n",
    "            ],\n",
    "            VisibilityTimeout=100,\n",
    "            WaitTimeSeconds=0\n",
    "        )\n",
    "        try:\n",
    "            message = response['Messages'][0]\n",
    "            receipt_handle = message['ReceiptHandle']\n",
    "\n",
    "            # Delete received message from queue\n",
    "            sqs.delete_message(\n",
    "                QueueUrl=queue_url,\n",
    "                ReceiptHandle=receipt_handle\n",
    "            )\n",
    "            a = base64.b64decode(message[\"Body\"].encode())\n",
    "\n",
    "            video_file.write(a)\n",
    "        except:\n",
    "            break"
   ]
  }
 ],
 "metadata": {
  "kernelspec": {
   "display_name": "Python 3 (ipykernel)",
   "language": "python",
   "name": "python3"
  },
  "language_info": {
   "codemirror_mode": {
    "name": "ipython",
    "version": 3
   },
   "file_extension": ".py",
   "mimetype": "text/x-python",
   "name": "python",
   "nbconvert_exporter": "python",
   "pygments_lexer": "ipython3",
   "version": "3.11.5"
  }
 },
 "nbformat": 4,
 "nbformat_minor": 5
}
